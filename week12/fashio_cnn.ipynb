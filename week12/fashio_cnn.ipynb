{
 "cells": [
  {
   "cell_type": "markdown",
   "metadata": {
    "id": "VsZV03UD5Qb5"
   },
   "source": [
    "# 합성곱 신경망을 사용한 이미지 분류"
   ]
  },
  {
   "cell_type": "markdown",
   "metadata": {
    "id": "MiG7uEQF5QcA"
   },
   "source": [
    "<table align=\"left\">\n",
    "  <td>\n",
    "    <a target=\"_blank\" href=\"https://colab.research.google.com/github/rickiepark/hg-mldl/blob/master/8-2.ipynb\"><img src=\"https://www.tensorflow.org/images/colab_logo_32px.png\" />구글 코랩에서 실행하기</a>\n",
    "  </td>\n",
    "</table>"
   ]
  },
  {
   "cell_type": "code",
   "execution_count": 1,
   "metadata": {
    "id": "bUzDDcs_PkVV",
    "colab": {
     "base_uri": "https://localhost:8080/"
    },
    "outputId": "fc8acc93-98ee-40e9-cae4-1dbc24eb84c6",
    "ExecuteTime": {
     "end_time": "2023-05-20T13:07:29.356883Z",
     "start_time": "2023-05-20T13:04:00.293440Z"
    }
   },
   "outputs": [
    {
     "name": "stdout",
     "output_type": "stream",
     "text": [
      "Metal device set to: Apple M1 Pro\n",
      "Model: \"sequential\"\n",
      "_________________________________________________________________\n",
      " Layer (type)                Output Shape              Param #   \n",
      "=================================================================\n",
      " conv2d (Conv2D)             (None, 28, 28, 32)        320       \n",
      "                                                                 \n",
      " max_pooling2d (MaxPooling2D  (None, 14, 14, 32)       0         \n",
      " )                                                               \n",
      "                                                                 \n",
      " conv2d_1 (Conv2D)           (None, 14, 14, 64)        18496     \n",
      "                                                                 \n",
      " max_pooling2d_1 (MaxPooling  (None, 7, 7, 64)         0         \n",
      " 2D)                                                             \n",
      "                                                                 \n",
      " flatten (Flatten)           (None, 3136)              0         \n",
      "                                                                 \n",
      " dense (Dense)               (None, 100)               313700    \n",
      "                                                                 \n",
      " dropout (Dropout)           (None, 100)               0         \n",
      "                                                                 \n",
      " dense_1 (Dense)             (None, 10)                1010      \n",
      "                                                                 \n",
      "=================================================================\n",
      "Total params: 333,526\n",
      "Trainable params: 333,526\n",
      "Non-trainable params: 0\n",
      "_________________________________________________________________\n",
      "Epoch 1/20\n"
     ]
    },
    {
     "name": "stderr",
     "output_type": "stream",
     "text": [
      "2023-05-20 22:04:05.196316: W tensorflow/tsl/platform/profile_utils/cpu_utils.cc:128] Failed to get CPU frequency: 0 Hz\n"
     ]
    },
    {
     "name": "stdout",
     "output_type": "stream",
     "text": [
      "1500/1500 [==============================] - 19s 11ms/step - loss: 0.4811 - accuracy: 0.8279 - val_loss: 0.3249 - val_accuracy: 0.8833\n",
      "Epoch 2/20\n",
      "1500/1500 [==============================] - 17s 11ms/step - loss: 0.3150 - accuracy: 0.8855 - val_loss: 0.2709 - val_accuracy: 0.9008\n",
      "Epoch 3/20\n",
      "1500/1500 [==============================] - 16s 11ms/step - loss: 0.2696 - accuracy: 0.9030 - val_loss: 0.2464 - val_accuracy: 0.9111\n",
      "Epoch 4/20\n",
      "1500/1500 [==============================] - 17s 11ms/step - loss: 0.2378 - accuracy: 0.9128 - val_loss: 0.2411 - val_accuracy: 0.9117\n",
      "Epoch 5/20\n",
      "1500/1500 [==============================] - 17s 12ms/step - loss: 0.2127 - accuracy: 0.9222 - val_loss: 0.2262 - val_accuracy: 0.9172\n",
      "Epoch 6/20\n",
      "1500/1500 [==============================] - 17s 11ms/step - loss: 0.1931 - accuracy: 0.9285 - val_loss: 0.2195 - val_accuracy: 0.9200\n",
      "Epoch 7/20\n",
      "1500/1500 [==============================] - 17s 11ms/step - loss: 0.1766 - accuracy: 0.9351 - val_loss: 0.2125 - val_accuracy: 0.9249\n",
      "Epoch 8/20\n",
      "1500/1500 [==============================] - 17s 11ms/step - loss: 0.1560 - accuracy: 0.9419 - val_loss: 0.2182 - val_accuracy: 0.9216\n",
      "Epoch 9/20\n",
      "1500/1500 [==============================] - 17s 11ms/step - loss: 0.1457 - accuracy: 0.9459 - val_loss: 0.2124 - val_accuracy: 0.9230\n",
      "Epoch 10/20\n",
      "1500/1500 [==============================] - 17s 12ms/step - loss: 0.1344 - accuracy: 0.9498 - val_loss: 0.2087 - val_accuracy: 0.9284\n",
      "Epoch 11/20\n",
      "1500/1500 [==============================] - 16s 11ms/step - loss: 0.1222 - accuracy: 0.9536 - val_loss: 0.2195 - val_accuracy: 0.9248\n",
      "Epoch 12/20\n",
      "1500/1500 [==============================] - 15s 10ms/step - loss: 0.1122 - accuracy: 0.9583 - val_loss: 0.2286 - val_accuracy: 0.9266\n",
      "375/375 [==============================] - 2s 5ms/step - loss: 0.2087 - accuracy: 0.9284\n"
     ]
    },
    {
     "data": {
      "text/plain": "[0.2086663544178009, 0.9284166693687439]"
     },
     "execution_count": 1,
     "metadata": {},
     "output_type": "execute_result"
    }
   ],
   "source": [
    "# 실행마다 동일한 결과를 얻기 위해 케라스에 랜덤 시드를 사용하고 텐서플로 연산을 결정적으로 만듭니다. \n",
    "import tensorflow as tf\n",
    "\n",
    "tf.keras.utils.set_random_seed(42)\n",
    "tf.config.experimental.enable_op_determinism()\n",
    "from tensorflow import keras\n",
    "from sklearn.model_selection import train_test_split\n",
    "\n",
    "(train_input, train_target), (test_input, test_target) = \\\n",
    "    keras.datasets.fashion_mnist.load_data()\n",
    "\n",
    "train_scaled = train_input.reshape(-1, 28, 28, 1) / 255.0\n",
    "\n",
    "train_scaled, val_scaled, train_target, val_target = train_test_split(\n",
    "    train_scaled, train_target, test_size=0.2, random_state=42)\n",
    "\n",
    "model = keras.Sequential()\n",
    "\n",
    "\n",
    "model.add(keras.layers.Conv2D(32, kernel_size=3, activation='relu', \n",
    "                              padding='same', input_shape=(28,28,1)))\n",
    "model.add(keras.layers.MaxPooling2D(2))\n",
    "model.add(keras.layers.Conv2D(64, kernel_size=(3,3), activation='relu', \n",
    "                              padding='same'))\n",
    "model.add(keras.layers.MaxPooling2D(2))\n",
    "model.add(keras.layers.Flatten())\n",
    "model.add(keras.layers.Dense(100, activation='relu'))\n",
    "model.add(keras.layers.Dropout(0.4))\n",
    "model.add(keras.layers.Dense(10, activation='softmax'))\n",
    "model.summary()\n",
    "\n",
    "model.compile(optimizer='adam', loss='sparse_categorical_crossentropy', \n",
    "              metrics='accuracy')\n",
    "\n",
    "checkpoint_cb = keras.callbacks.ModelCheckpoint('best-cnn-model.h5', \n",
    "                                                save_best_only=True)\n",
    "early_stopping_cb = keras.callbacks.EarlyStopping(patience=2,\n",
    "                                                  restore_best_weights=True)\n",
    "\n",
    "history = model.fit(train_scaled, train_target, epochs=20,\n",
    "                    validation_data=(val_scaled, val_target),\n",
    "                    callbacks=[checkpoint_cb, early_stopping_cb])\n",
    "model.evaluate(val_scaled, val_target)"
   ]
  },
  {
   "cell_type": "code",
   "execution_count": null,
   "outputs": [],
   "source": [],
   "metadata": {
    "collapsed": false
   }
  }
 ],
 "metadata": {
  "accelerator": "GPU",
  "colab": {
   "name": "8_2.ipynb",
   "provenance": []
  },
  "kernelspec": {
   "name": "python3",
   "language": "python",
   "display_name": "Python 3 (ipykernel)"
  },
  "language_info": {
   "codemirror_mode": {
    "name": "ipython",
    "version": 3
   },
   "file_extension": ".py",
   "mimetype": "text/x-python",
   "name": "python",
   "nbconvert_exporter": "python",
   "pygments_lexer": "ipython3",
   "version": "3.9.10"
  }
 },
 "nbformat": 4,
 "nbformat_minor": 0
}
