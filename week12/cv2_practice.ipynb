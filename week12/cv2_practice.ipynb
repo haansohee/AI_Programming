{
 "cells": [
  {
   "cell_type": "code",
   "execution_count": 7,
   "metadata": {
    "collapsed": true,
    "ExecuteTime": {
     "end_time": "2023-05-19T05:32:57.294672Z",
     "start_time": "2023-05-19T05:32:57.258686Z"
    }
   },
   "outputs": [
    {
     "name": "stdout",
     "output_type": "stream",
     "text": [
      "img.ndim =  3\n",
      "img.shape =  (586, 736, 3)\n",
      "img.dtype =  uint8\n",
      "(293, 368, 3)\n"
     ]
    }
   ],
   "source": [
    "import cv2\n",
    "\n",
    "img = cv2.imread('./content/test2.jpg')\n",
    "\n",
    "print('img.ndim = ', img.ndim)\n",
    "print('img.shape = ', img.shape)\n",
    "print('img.dtype = ', img.dtype)\n",
    "\n",
    "# cv2.imshow(img)\n",
    "img = cv2.resize(img, (0, 0), fx = 0.5, fy = 0.5)\n",
    "cv2.imshow('test', img)\n",
    "cv2.imwrite('test1_half.jpg', img)\n",
    "print(img.shape)\n",
    "cv2.waitKey(1)\n",
    "cv2.destroyAllWindows()\n"
   ]
  },
  {
   "cell_type": "code",
   "execution_count": 15,
   "outputs": [],
   "source": [],
   "metadata": {
    "collapsed": false,
    "ExecuteTime": {
     "end_time": "2023-05-19T05:16:56.996050Z",
     "start_time": "2023-05-19T05:16:56.991451Z"
    }
   }
  },
  {
   "cell_type": "code",
   "execution_count": null,
   "outputs": [],
   "source": [],
   "metadata": {
    "collapsed": false
   }
  }
 ],
 "metadata": {
  "kernelspec": {
   "display_name": "Python 3",
   "language": "python",
   "name": "python3"
  },
  "language_info": {
   "codemirror_mode": {
    "name": "ipython",
    "version": 2
   },
   "file_extension": ".py",
   "mimetype": "text/x-python",
   "name": "python",
   "nbconvert_exporter": "python",
   "pygments_lexer": "ipython2",
   "version": "2.7.6"
  }
 },
 "nbformat": 4,
 "nbformat_minor": 0
}
