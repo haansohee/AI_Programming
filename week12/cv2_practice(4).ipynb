{
 "cells": [
  {
   "cell_type": "code",
   "execution_count": 3,
   "metadata": {
    "collapsed": true,
    "ExecuteTime": {
     "end_time": "2023-05-19T05:59:13.440381Z",
     "start_time": "2023-05-19T05:59:13.321591Z"
    }
   },
   "outputs": [
    {
     "data": {
      "text/plain": "True"
     },
     "execution_count": 3,
     "metadata": {},
     "output_type": "execute_result"
    }
   ],
   "source": [
    "import cv2\n",
    "import numpy as np\n",
    "\n",
    "gimg = cv2.imread('test1_halfgray.jpg')\n",
    "kernel1 = np.ones((3, 3), dtype=np.float64)/9.\n",
    "gimg1 = cv2.filter2D(gimg, -1, kernel1)\n",
    "\n",
    "kernel2 = np.ones((5,5), dtype = np.float64) / 25.\n",
    "gimg2 = cv2.filter2D(gimg, -1, kernel2)\n",
    "\n",
    "kernel3 = np.ones((7,7), dtype = np.float64) / 49.\n",
    "gimg3 = cv2.filter2D(gimg, -1, kernel3)\n",
    "\n",
    "cv2.imshow('gimg1', gimg1)\n",
    "cv2.imshow('gimg2', gimg2)\n",
    "cv2.imshow('gimg3', gimg3)\n",
    "\n",
    "cv2.imwrite('test_halfgary_filt1.jpg', gimg1)\n",
    "cv2.imwrite('test_halfgary_filt2.jpg', gimg2)\n",
    "cv2.imwrite('test_halfgary_filt3.jpg', gimg3)"
   ]
  },
  {
   "cell_type": "code",
   "execution_count": null,
   "outputs": [],
   "source": [],
   "metadata": {
    "collapsed": false
   }
  }
 ],
 "metadata": {
  "kernelspec": {
   "display_name": "Python 3",
   "language": "python",
   "name": "python3"
  },
  "language_info": {
   "codemirror_mode": {
    "name": "ipython",
    "version": 2
   },
   "file_extension": ".py",
   "mimetype": "text/x-python",
   "name": "python",
   "nbconvert_exporter": "python",
   "pygments_lexer": "ipython2",
   "version": "2.7.6"
  }
 },
 "nbformat": 4,
 "nbformat_minor": 0
}
