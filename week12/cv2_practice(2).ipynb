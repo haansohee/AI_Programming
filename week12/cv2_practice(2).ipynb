{
 "cells": [
  {
   "cell_type": "code",
   "execution_count": 1,
   "metadata": {
    "collapsed": true,
    "ExecuteTime": {
     "end_time": "2023-05-19T05:37:20.061570Z",
     "start_time": "2023-05-19T05:37:19.818667Z"
    }
   },
   "outputs": [],
   "source": [
    "import cv2\n",
    "\n",
    "img = cv2.imread('test1_half.jpg')\n",
    "img[100:300, 100:300,:] = 255\n",
    "img[100:300, 300:500,:] = 0\n",
    "img[100:300, 500:700,:] = 127\n",
    "\n",
    "img[300:500, 100:300, 0] = 255\n",
    "img[300:500, 300:500, 1] = 255\n",
    "img[300:500, 500:700, 2] = 255\n",
    "\n",
    "cv2.imwrite('test1_half_changed.jpg', img)\n",
    "\n",
    "cv2.imshow('test2', img)\n",
    "cv2.waitKey(1)\n",
    "cv2.destroyAllWindows()"
   ]
  },
  {
   "cell_type": "code",
   "execution_count": null,
   "outputs": [],
   "source": [],
   "metadata": {
    "collapsed": false
   }
  }
 ],
 "metadata": {
  "kernelspec": {
   "display_name": "Python 3",
   "language": "python",
   "name": "python3"
  },
  "language_info": {
   "codemirror_mode": {
    "name": "ipython",
    "version": 2
   },
   "file_extension": ".py",
   "mimetype": "text/x-python",
   "name": "python",
   "nbconvert_exporter": "python",
   "pygments_lexer": "ipython2",
   "version": "2.7.6"
  }
 },
 "nbformat": 4,
 "nbformat_minor": 0
}
