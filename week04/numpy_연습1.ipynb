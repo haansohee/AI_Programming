{
 "nbformat": 4,
 "nbformat_minor": 0,
 "metadata": {
  "colab": {
   "provenance": []
  },
  "kernelspec": {
   "name": "python3",
   "display_name": "Python 3"
  },
  "language_info": {
   "name": "python"
  }
 },
 "cells": [
  {
   "cell_type": "markdown",
   "source": [
    "아래 문제들은 결과 출력까시 실행 후 노트북 파일을 제출 (컴퓨터정보과 202144020 한소희)"
   ],
   "metadata": {
    "id": "vydh4AaATqYd"
   }
  },
  {
   "cell_type": "markdown",
   "source": [
    "1.1차원이면서 크기가 10이고 0으로 채워진 배열을 생성하고 다섯번째 요소를 1로 설정하는 코드를 작성하시오. "
   ],
   "metadata": {
    "id": "592OJ3VlSerQ"
   }
  },
  {
   "cell_type": "code",
   "source": [
    "import numpy as np\n",
    "a = np.zeros(10)\n",
    "a[4] = 1\n",
    "print(a)"
   ],
   "metadata": {
    "id": "jZvIdvJDOyVY"
   },
   "execution_count": 7,
   "outputs": [
    {
     "name": "stdout",
     "output_type": "stream",
     "text": [
      "[0. 0. 0. 0. 1. 0. 0. 0. 0. 0.]\n"
     ]
    }
   ]
  },
  {
   "cell_type": "markdown",
   "source": [
    "2.아래와 같은 배열을 생성하는 code를 작성하시오.\n",
    "arange 사용\n",
    "\n",
    "[3,6,9,12,15,18,21]"
   ],
   "metadata": {
    "id": "ZVFhVdHiXGs5"
   }
  },
  {
   "cell_type": "code",
   "source": [
    "import numpy as np\n",
    "np.arange(3,22,3)\n"
   ],
   "metadata": {
    "id": "Rtng0qrqXXy8"
   },
   "execution_count": 1,
   "outputs": [
    {
     "data": {
      "text/plain": "array([ 3,  6,  9, 12, 15, 18, 21])"
     },
     "execution_count": 1,
     "metadata": {},
     "output_type": "execute_result"
    }
   ]
  },
  {
   "cell_type": "markdown",
   "source": [
    "3.0부터 8까지의 값을 가지고 크기가 3x3인 행렬을 arange와 reshape 명령어를 이용하여 생성 하시오. \n",
    "\n",
    "[[0 1 2]    \n",
    " [3,4,5]  \n",
    " [6,7,8]]\n"
   ],
   "metadata": {
    "id": "Q7f9SpttTHt5"
   }
  },
  {
   "cell_type": "code",
   "source": [
    "import numpy as np\n",
    "\n",
    "a = np.arange(0, 9)\n",
    "a.reshape(3,3)\n"
   ],
   "metadata": {
    "id": "2SXQGKL5Tzmd"
   },
   "execution_count": 8,
   "outputs": [
    {
     "data": {
      "text/plain": "array([[0, 1, 2],\n       [3, 4, 5],\n       [6, 7, 8]])"
     },
     "execution_count": 8,
     "metadata": {},
     "output_type": "execute_result"
    }
   ]
  },
  {
   "cell_type": "markdown",
   "source": [
    "4.난수로 채워진 3x3 배열을 생성하고 최대값과 최소값을 구하는 코드를 작성 하시오"
   ],
   "metadata": {
    "id": "3KGmXq0_T_Sl"
   }
  },
  {
   "cell_type": "code",
   "source": [
    "import numpy as np\n",
    "\n",
    "a = np.random.rand(3, 3)\n",
    "\n",
    "min_val = np.min(a)\n",
    "max_val = np.max(a)\n",
    "print('최대값 : ' , max_val , ' 최소값 : ' , min_val)"
   ],
   "metadata": {
    "id": "xbyKcM1AUX7t"
   },
   "execution_count": 13,
   "outputs": [
    {
     "name": "stdout",
     "output_type": "stream",
     "text": [
      "최대값 :  0.9664783384892506  최소값 :  0.04103797633222539\n"
     ]
    }
   ]
  },
  {
   "cell_type": "markdown",
   "source": [
    "5.다음과 같은 행렬을 만드는 code를 작성하시오. \n",
    "(ones 함수와 slicing 이용)\n",
    "\n",
    "[[1,1,1,0,0]    \n",
    "  [1,1,1,0,0]  \n",
    "  [1,1,1,0,0]   \n",
    "  [1,1,1,1,1]] "
   ],
   "metadata": {
    "id": "wdJDT55-VCw8"
   }
  },
  {
   "cell_type": "code",
   "source": [
    "import numpy as np\n",
    "\n",
    "a = np.ones((4, 5), dtype=int)\n",
    "a[0:4, 4:5] = 0\n",
    "\n",
    "print(a)"
   ],
   "metadata": {
    "id": "U16T9gcHVwkF"
   },
   "execution_count": 21,
   "outputs": [
    {
     "name": "stdout",
     "output_type": "stream",
     "text": [
      "[[1 1 1 1 0]\n",
      " [1 1 1 1 0]\n",
      " [1 1 1 1 0]\n",
      " [1 1 1 1 0]]\n"
     ]
    }
   ]
  },
  {
   "cell_type": "markdown",
   "source": [
    "6.5x5 행렬을 만들어 체스보드 패턴으로 채워보자\n",
    "( zeros 함수와 slicing 이용)\n",
    "\n",
    "[[0,1,0,1,0]  \n",
    "[1,0,1,0,1]  \n",
    "[0,1,0,1,0]  \n",
    "[1,0,1,0,1]  \n",
    "[0,1,0,1,0]]"
   ],
   "metadata": {
    "id": "k5AJ3OVbV0oC"
   }
  },
  {
   "cell_type": "code",
   "execution_count": 26,
   "outputs": [
    {
     "name": "stdout",
     "output_type": "stream",
     "text": [
      "[[1 0 1 0 1]\n",
      " [0 1 0 1 0]\n",
      " [1 0 1 0 1]\n",
      " [0 1 0 1 0]\n",
      " [1 0 1 0 1]]\n"
     ]
    }
   ],
   "source": [
    "import numpy as np\n",
    "\n",
    "a = np.zeros((5, 5), dtype=int)\n",
    "a[::2, ::2] = 1\n",
    "a[1::2, 1::2] = 1\n",
    "print(a)"
   ],
   "metadata": {
    "collapsed": false
   }
  },
  {
   "cell_type": "code",
   "execution_count": null,
   "outputs": [],
   "source": [],
   "metadata": {
    "collapsed": false
   }
  }
 ]
}
